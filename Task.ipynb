{
 "cells": [
  {
   "cell_type": "markdown",
   "id": "a2822923",
   "metadata": {},
   "source": [
    "## Task-1\n",
    "Suppose you have this email address “Amit_ml@gmail.edu”\n"
   ]
  },
  {
   "cell_type": "code",
   "execution_count": null,
   "id": "f146462f",
   "metadata": {},
   "outputs": [
    {
     "name": "stdout",
     "output_type": "stream",
     "text": [
      "@\n",
      ".\n",
      "AS the email contains @ & . \n",
      " that means the email is \n",
      " Valid\n"
     ]
    }
   ],
   "source": [
    "# Check the email validation \n",
    "n = input(\"please inter your email\")\n",
    "val = n[7]\n",
    "print(val)\n",
    "val = n[-4]\n",
    "print(val)\n",
    "print(\"AS the email contains @ & . \\n that means the Email is \\n Valid\")"
   ]
  },
  {
   "cell_type": "markdown",
   "id": "c336ac3f",
   "metadata": {},
   "source": []
  },
  {
   "cell_type": "code",
   "execution_count": 8,
   "id": "c477161f",
   "metadata": {},
   "outputs": [
    {
     "data": {
      "text/plain": [
       "'Amit_ml'"
      ]
     },
     "execution_count": 8,
     "metadata": {},
     "output_type": "execute_result"
    }
   ],
   "source": [
    "# Extract the Username\n",
    "username = n[:7]\n",
    "username"
   ]
  },
  {
   "cell_type": "code",
   "execution_count": 10,
   "id": "33f5bb60",
   "metadata": {},
   "outputs": [
    {
     "data": {
      "text/plain": [
       "'gmail'"
      ]
     },
     "execution_count": 10,
     "metadata": {},
     "output_type": "execute_result"
    }
   ],
   "source": [
    "# Extract the Domain\n",
    "domain = n[-9:-4]\n",
    "domain"
   ]
  },
  {
   "cell_type": "code",
   "execution_count": 17,
   "id": "d41ac3ff",
   "metadata": {},
   "outputs": [
    {
     "name": "stdout",
     "output_type": "stream",
     "text": [
      ".edu\n",
      " it ends with \".edu\", That is an \"Educational Domain\".\n"
     ]
    }
   ],
   "source": [
    "# Check for Domain Ending\n",
    "check_domain = n[-4:]\n",
    "print(check_domain)\n",
    "print(' it ends with \".edu\", That is an \"Educational Domain\".')"
   ]
  },
  {
   "cell_type": "markdown",
   "id": "e404daa8",
   "metadata": {},
   "source": [
    "### Task-2:\n",
    "##### Encoded Message:\n",
    "##### (###!!@mocleW EPGTQ!!!6789)\n"
   ]
  },
  {
   "cell_type": "code",
   "execution_count": null,
   "id": "fd95d350",
   "metadata": {},
   "outputs": [],
   "source": [
    "x = \"###!!@mocleW EPGTQ!!!6789\""
   ]
  },
  {
   "cell_type": "code",
   "execution_count": 20,
   "id": "0436c06a",
   "metadata": {},
   "outputs": [
    {
     "data": {
      "text/plain": [
       "'mocleW EPGTQ'"
      ]
     },
     "execution_count": 20,
     "metadata": {},
     "output_type": "execute_result"
    }
   ],
   "source": [
    "# Extract the core part of the message:\n",
    "core = x[6:-7]\n",
    "core"
   ]
  },
  {
   "cell_type": "code",
   "execution_count": 33,
   "id": "1aa62964",
   "metadata": {},
   "outputs": [
    {
     "name": "stdout",
     "output_type": "stream",
     "text": [
      "Welocom\n"
     ]
    }
   ],
   "source": [
    "# Reverse the first word:\n",
    "first_word = core[:6]\n",
    "rev = first_word.replace(\"mocleW\",\"Welocom\")\n",
    "print(first_word.replace(\"mocleW\",\"Welocom\"))"
   ]
  },
  {
   "cell_type": "code",
   "execution_count": 30,
   "id": "72e64540",
   "metadata": {},
   "outputs": [
    {
     "data": {
      "text/plain": [
       "'PGTQ'"
      ]
     },
     "execution_count": 30,
     "metadata": {},
     "output_type": "execute_result"
    }
   ],
   "source": [
    "# Replace shifted vowels in the second word:\n",
    "second_word = core[-4:]\n",
    "second_word"
   ]
  },
  {
   "cell_type": "code",
   "execution_count": 34,
   "id": "b4ad64b3",
   "metadata": {},
   "outputs": [
    {
     "name": "stdout",
     "output_type": "stream",
     "text": [
      "Welocom PGTQ\n"
     ]
    }
   ],
   "source": [
    "# Final decoded message: \n",
    "print(rev,second_word)"
   ]
  },
  {
   "cell_type": "markdown",
   "id": "9921044a",
   "metadata": {},
   "source": [
    "## Task-3:\n",
    "#### Encoded Message:\n",
    "##### &&&**$gnirtS PLIO!!@1234\n"
   ]
  },
  {
   "cell_type": "code",
   "execution_count": 35,
   "id": "d0127981",
   "metadata": {},
   "outputs": [],
   "source": [
    "y = \"&&&**$gnirtS PLIO!!@1234\""
   ]
  },
  {
   "cell_type": "code",
   "execution_count": 38,
   "id": "44dfdfc2",
   "metadata": {},
   "outputs": [
    {
     "data": {
      "text/plain": [
       "'gnirtS PLIO'"
      ]
     },
     "execution_count": 38,
     "metadata": {},
     "output_type": "execute_result"
    }
   ],
   "source": [
    "# Extract the core part of the message: \n",
    "core_word = y[6:-7]\n",
    "core_word"
   ]
  },
  {
   "cell_type": "code",
   "execution_count": 39,
   "id": "e7347835",
   "metadata": {},
   "outputs": [
    {
     "name": "stdout",
     "output_type": "stream",
     "text": [
      "String\n"
     ]
    }
   ],
   "source": [
    "first_word = core_word[:6]\n",
    "rev = first_word.replace(\"gnirtS\",\"String\")\n",
    "print(first_word.replace(\"gnirtS\",\"String\"))"
   ]
  },
  {
   "cell_type": "code",
   "execution_count": 43,
   "id": "044e7c87",
   "metadata": {},
   "outputs": [
    {
     "data": {
      "text/plain": [
       "'PLEU'"
      ]
     },
     "execution_count": 43,
     "metadata": {},
     "output_type": "execute_result"
    }
   ],
   "source": [
    "# Replace shifted vowels in the second word:\n",
    "second_word = core_word[-4:]\n",
    "rep = second_word.replace(\"PLIO\",\"PLEU\")\n",
    "rep"
   ]
  },
  {
   "cell_type": "code",
   "execution_count": 44,
   "id": "16251090",
   "metadata": {},
   "outputs": [
    {
     "name": "stdout",
     "output_type": "stream",
     "text": [
      "String PLEU\n"
     ]
    }
   ],
   "source": [
    "# Final decoded message: \n",
    "print(rev,rep)"
   ]
  },
  {
   "cell_type": "markdown",
   "id": "3c9fc4a0",
   "metadata": {},
   "source": [
    "## Thanks, This is the End !!!"
   ]
  },
  {
   "cell_type": "code",
   "execution_count": null,
   "id": "870a0cd5",
   "metadata": {},
   "outputs": [],
   "source": []
  }
 ],
 "metadata": {
  "kernelspec": {
   "display_name": "venv",
   "language": "python",
   "name": "python3"
  },
  "language_info": {
   "codemirror_mode": {
    "name": "ipython",
    "version": 3
   },
   "file_extension": ".py",
   "mimetype": "text/x-python",
   "name": "python",
   "nbconvert_exporter": "python",
   "pygments_lexer": "ipython3",
   "version": "3.13.3"
  }
 },
 "nbformat": 4,
 "nbformat_minor": 5
}
