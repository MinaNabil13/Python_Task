{
 "cells": [
  {
   "cell_type": "markdown",
   "id": "a2822923",
   "metadata": {},
   "source": [
    "## Task-1\n",
    "Suppose you have this email address “Amit_ml@gmail.edu”\n"
   ]
  },
  {
   "cell_type": "code",
   "execution_count": null,
   "id": "f146462f",
   "metadata": {},
   "outputs": [
    {
     "name": "stdout",
     "output_type": "stream",
     "text": [
      "@\n",
      ".\n",
      "AS the email contains @ & . \n",
      " that means the email is \n",
      " Valid\n"
     ]
    }
   ],
   "source": [
    "# Check the email validation \n",
    "n = input(\"please inter your email\")\n",
    "val = n[7]\n",
    "print(val)\n",
    "val = n[-4]\n",
    "print(val)\n",
    "print(\"AS the email contains @ & . \\n that means the Email is \\n Valid\")"
   ]
  },
  {
   "cell_type": "markdown",
   "id": "c336ac3f",
   "metadata": {},
   "source": []
  },
  {
   "cell_type": "code",
   "execution_count": 8,
   "id": "c477161f",
   "metadata": {},
   "outputs": [
    {
     "data": {
      "text/plain": [
       "'Amit_ml'"
      ]
     },
     "execution_count": 8,
     "metadata": {},
     "output_type": "execute_result"
    }
   ],
   "source": [
    "# Extract the Username\n",
    "username = n[:7]\n",
    "username"
   ]
  },
  {
   "cell_type": "code",
   "execution_count": 10,
   "id": "33f5bb60",
   "metadata": {},
   "outputs": [
    {
     "data": {
      "text/plain": [
       "'gmail'"
      ]
     },
     "execution_count": 10,
     "metadata": {},
     "output_type": "execute_result"
    }
   ],
   "source": [
    "# Extract the Domain\n",
    "domain = n[-9:-4]\n",
    "domain"
   ]
  },
  {
   "cell_type": "code",
   "execution_count": 17,
   "id": "d41ac3ff",
   "metadata": {},
   "outputs": [
    {
     "name": "stdout",
     "output_type": "stream",
     "text": [
      ".edu\n",
      " it ends with \".edu\", That is an \"Educational Domain\".\n"
     ]
    }
   ],
   "source": [
    "# Check for Domain Ending\n",
    "check_domain = n[-4:]\n",
    "print(check_domain)\n",
    "print(' it ends with \".edu\", That is an \"Educational Domain\".')"
   ]
  },
  {
   "cell_type": "markdown",
   "id": "e404daa8",
   "metadata": {},
   "source": [
    "### Task-2:\n",
    "##### Encoded Message:\n",
    "##### (###!!@mocleW EPGTQ!!!6789)\n"
   ]
  },
  {
   "cell_type": "code",
   "execution_count": null,
   "id": "fd95d350",
   "metadata": {},
   "outputs": [],
   "source": [
    "x = \"###!!@mocleW EPGTQ!!!6789\""
   ]
  },
  {
   "cell_type": "code",
   "execution_count": 20,
   "id": "0436c06a",
   "metadata": {},
   "outputs": [
    {
     "data": {
      "text/plain": [
       "'mocleW EPGTQ'"
      ]
     },
     "execution_count": 20,
     "metadata": {},
     "output_type": "execute_result"
    }
   ],
   "source": [
    "# Extract the core part of the message:\n",
    "core = x[6:-7]\n",
    "core"
   ]
  },
  {
   "cell_type": "code",
   "execution_count": 33,
   "id": "1aa62964",
   "metadata": {},
   "outputs": [
    {
     "name": "stdout",
     "output_type": "stream",
     "text": [
      "Welocom\n"
     ]
    }
   ],
   "source": [
    "# Reverse the first word:\n",
    "first_word = core[:6]\n",
    "rev = first_word.replace(\"mocleW\",\"Welocom\")\n",
    "print(first_word.replace(\"mocleW\",\"Welocom\"))"
   ]
  },
  {
   "cell_type": "code",
   "execution_count": 30,
   "id": "72e64540",
   "metadata": {},
   "outputs": [
    {
     "data": {
      "text/plain": [
       "'PGTQ'"
      ]
     },
     "execution_count": 30,
     "metadata": {},
     "output_type": "execute_result"
    }
   ],
   "source": [
    "# Replace shifted vowels in the second word:\n",
    "second_word = core[-4:]\n",
    "second_word"
   ]
  },
  {
   "cell_type": "code",
   "execution_count": 34,
   "id": "b4ad64b3",
   "metadata": {},
   "outputs": [
    {
     "name": "stdout",
     "output_type": "stream",
     "text": [
      "Welocom PGTQ\n"
     ]
    }
   ],
   "source": [
    "# Final decoded message: \n",
    "print(rev,second_word)"
   ]
  },
  {
   "cell_type": "code",
   "execution_count": null,
   "id": "d0127981",
   "metadata": {},
   "outputs": [],
   "source": []
  }
 ],
 "metadata": {
  "kernelspec": {
   "display_name": "venv",
   "language": "python",
   "name": "python3"
  },
  "language_info": {
   "codemirror_mode": {
    "name": "ipython",
    "version": 3
   },
   "file_extension": ".py",
   "mimetype": "text/x-python",
   "name": "python",
   "nbconvert_exporter": "python",
   "pygments_lexer": "ipython3",
   "version": "3.13.3"
  }
 },
 "nbformat": 4,
 "nbformat_minor": 5
}
